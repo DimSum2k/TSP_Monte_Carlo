{
 "cells": [
  {
   "cell_type": "markdown",
   "metadata": {},
   "source": [
    "# Simulation d'observations de loi multinomiale "
   ]
  },
  {
   "cell_type": "markdown",
   "metadata": {},
   "source": [
    "We want to simulate observations from the multinomial law : \n",
    "\n",
    "Suppose one does an experiment of extracting $n$ balls of $k$ different colors from a bag, replacing the extracted ball after each draw. Balls from the same color are equivalent. Denote the variable which is the number of extracted balls of color $i$ ($i = 1, \\cdots, k$) as $X_i$, and denote as $p_i$ the probability that a given extraction will be in color $i$. The probability mass function of this multinomial distribution is:\n",
    "\n",
    "<math> \\begin{align}\n",
    "f(x_1,\\ldots,x_k;n,p_1,\\ldots,p_k) & {} = \\mathbb{P}(X_1 = x_1, \\dots, X_k = x_k) \\\\\n",
    "& {} = \\begin{cases} { \\displaystyle {n! \\over x_1!\\cdots x_k!}p_1^{x_1}\\times\\cdots\\times p_k^{x_k}}, \\quad &\n",
    "\\text{when } \\sum_{i=1}^k x_i=n \\\\  \\\\\n",
    "0 & \\text{otherwise,} \\end{cases}\n",
    "\\end{align}\n",
    "</math>\n"
   ]
  },
  {
   "cell_type": "markdown",
   "metadata": {},
   "source": [
    "## Simulation avec numpy"
   ]
  },
  {
   "cell_type": "code",
   "execution_count": 5,
   "metadata": {},
   "outputs": [],
   "source": [
    "import numpy as np "
   ]
  },
  {
   "cell_type": "code",
   "execution_count": 36,
   "metadata": {
    "scrolled": true
   },
   "outputs": [
    {
     "name": "stdout",
     "output_type": "stream",
     "text": [
      "(1, 4)\n",
      "CPU times: user 256 µs, sys: 107 µs, total: 363 µs\n",
      "Wall time: 278 µs\n"
     ]
    }
   ],
   "source": [
    "%%time\n",
    "mult = np.random.multinomial(1000000, [1./3,1./4,1./6,3./12], size=1)\n",
    "print(mult.shape)"
   ]
  },
  {
   "cell_type": "code",
   "execution_count": 7,
   "metadata": {},
   "outputs": [
    {
     "data": {
      "text/plain": [
       "array([[3333.492, 2500.88 , 1667.183, 2498.445],\n",
       "       [3335.285, 2498.481, 1666.625, 2499.609],\n",
       "       [3335.519, 2497.617, 1666.221, 2500.643],\n",
       "       [3333.797, 2499.027, 1666.434, 2500.742],\n",
       "       [3334.472, 2498.992, 1665.522, 2501.014],\n",
       "       [3332.096, 2500.666, 1666.352, 2500.886],\n",
       "       [3333.865, 2500.472, 1666.948, 2498.715],\n",
       "       [3331.344, 2499.503, 1667.962, 2501.191],\n",
       "       [3333.179, 2500.088, 1666.086, 2500.647],\n",
       "       [3332.049, 2501.014, 1666.404, 2500.533],\n",
       "       [3331.225, 2498.214, 1668.361, 2502.2  ],\n",
       "       [3331.074, 2501.583, 1666.838, 2500.505],\n",
       "       [3333.037, 2500.213, 1665.804, 2500.946],\n",
       "       [3335.648, 2499.432, 1665.254, 2499.666],\n",
       "       [3332.398, 2500.589, 1668.589, 2498.424],\n",
       "       [3333.959, 2496.974, 1667.535, 2501.532],\n",
       "       [3332.743, 2499.344, 1669.502, 2498.411],\n",
       "       [3335.997, 2500.054, 1664.381, 2499.568],\n",
       "       [3332.515, 2501.565, 1666.942, 2498.978],\n",
       "       [3331.643, 2499.962, 1666.939, 2501.456],\n",
       "       [3332.552, 2498.802, 1670.277, 2498.369],\n",
       "       [3333.34 , 2498.721, 1667.232, 2500.707],\n",
       "       [3334.53 , 2500.186, 1665.569, 2499.715],\n",
       "       [3335.943, 2497.836, 1667.473, 2498.748],\n",
       "       [3334.3  , 2499.04 , 1666.278, 2500.382],\n",
       "       [3335.976, 2497.46 , 1666.969, 2499.595],\n",
       "       [3332.434, 2502.721, 1665.591, 2499.254],\n",
       "       [3332.592, 2499.664, 1666.067, 2501.677],\n",
       "       [3331.804, 2499.603, 1668.067, 2500.526],\n",
       "       [3332.499, 2498.749, 1666.726, 2502.026],\n",
       "       [3334.027, 2502.136, 1665.663, 2498.174],\n",
       "       [3335.248, 2498.604, 1666.068, 2500.08 ],\n",
       "       [3331.249, 2501.388, 1665.763, 2501.6  ],\n",
       "       [3330.894, 2500.574, 1667.876, 2500.656],\n",
       "       [3330.554, 2499.676, 1667.079, 2502.691],\n",
       "       [3334.638, 2497.366, 1667.94 , 2500.056],\n",
       "       [3332.556, 2500.103, 1666.366, 2500.975],\n",
       "       [3331.456, 2500.963, 1667.716, 2499.865],\n",
       "       [3332.977, 2500.223, 1666.068, 2500.732],\n",
       "       [3331.65 , 2500.009, 1665.874, 2502.467]])"
      ]
     },
     "execution_count": 7,
     "metadata": {},
     "output_type": "execute_result"
    }
   ],
   "source": [
    "mult/1000."
   ]
  },
  {
   "cell_type": "markdown",
   "metadata": {},
   "source": [
    "## Algorithme de simulation"
   ]
  },
  {
   "cell_type": "code",
   "execution_count": 16,
   "metadata": {},
   "outputs": [],
   "source": [
    "def multinomial1(n,prob,size=1):\n",
    "    \"\"\"Genere une loi multinomiale\n",
    "    Voir comment on peut l'amelorer, comparer avec C++\"\"\"\n",
    "    \n",
    "    np.random.seed(42)\n",
    "     \n",
    "    if abs(np.sum(prob)-1)>10e-16:\n",
    "        return \"Probabilités ne somment pas à 1\"\n",
    "    \n",
    "    prob = np.sort(prob)[::-1] #speed up computation time\n",
    "    \n",
    "    u = np.random.uniform(size=n*size).reshape(size,n)\n",
    "    output = np.zeros((size,len(prob)))\n",
    "                  \n",
    "    ### Double boucle à améliorer avec un apply ! \n",
    "    for step in range(size):\n",
    "        for el in u[step,:]:\n",
    "            output[step,get_bin(el,prob)] += 1\n",
    "        \n",
    "    return output\n",
    "    \n",
    "    \n",
    "def get_bin(u,prob):\n",
    "    cumprob = np.cumsum(prob)\n",
    "    for i,p in enumerate(cumprob):\n",
    "        if u<p:\n",
    "            return i"
   ]
  },
  {
   "cell_type": "code",
   "execution_count": 17,
   "metadata": {},
   "outputs": [
    {
     "name": "stdout",
     "output_type": "stream",
     "text": [
      "[3253. 2535. 2487. 1725.]\n",
      "CPU times: user 935 ms, sys: 7.78 ms, total: 943 ms\n",
      "Wall time: 945 ms\n"
     ]
    }
   ],
   "source": [
    "%%time\n",
    "n = 1000000\n",
    "test = multinomial1(n,np.array([1./3,1./4,1./6,3./12]),size=1)\n",
    "print(test[1])"
   ]
  },
  {
   "cell_type": "code",
   "execution_count": 18,
   "metadata": {},
   "outputs": [],
   "source": [
    "def multinomial2(n,prob,size=1):\n",
    "    \"\"\"Genere une loi multinomiale\n",
    "    Voir comment on peut l'amelorer, comparer avec C++\"\"\"\n",
    "    \n",
    "    np.random.seed(42)\n",
    "     \n",
    "    if abs(np.sum(prob)-1)>10e-16:\n",
    "        return \"Probabilités ne somment pas à 1\"\n",
    "    \n",
    "    prob = np.sort(prob)[::-1] #speed up computation time\n",
    "    \n",
    "    u = np.random.uniform(size=n*size).reshape(size,n)\n",
    "    output = np.zeros((size,len(prob)))\n",
    "    \n",
    "    cprob = np.cumsum(prob)\n",
    "    \n",
    "    for i,p in enumerate(cprob):\n",
    "        output[:,i] = (u<cprob[i]).sum(axis=1) \n",
    "    output = np.concatenate((output[:,0].reshape(-1,1),np.diff(output,axis=1)),axis=1)\n",
    "        \n",
    "    return output"
   ]
  },
  {
   "cell_type": "code",
   "execution_count": 33,
   "metadata": {},
   "outputs": [
    {
     "name": "stdout",
     "output_type": "stream",
     "text": [
      "[[0.333018 0.249807 0.250489 0.166686]]\n",
      "CPU times: user 21.2 ms, sys: 2.23 ms, total: 23.5 ms\n",
      "Wall time: 21.6 ms\n"
     ]
    }
   ],
   "source": [
    "%%time\n",
    "n = 1000000\n",
    "test = multinomial2(n,np.array([1./3,1./4,1./6,3./12]),size=1)\n",
    "print((test/float(n))[:4,:])"
   ]
  },
  {
   "cell_type": "code",
   "execution_count": 20,
   "metadata": {},
   "outputs": [
    {
     "data": {
      "text/plain": [
       "0.9999999999999999"
      ]
     },
     "execution_count": 20,
     "metadata": {},
     "output_type": "execute_result"
    }
   ],
   "source": [
    "np.sum(np.array([1./3,1./4,1./6,3./12]))"
   ]
  },
  {
   "cell_type": "code",
   "execution_count": 21,
   "metadata": {},
   "outputs": [],
   "source": [
    "prob = np.array([1./3,1./4,1./6,3./12])"
   ]
  },
  {
   "cell_type": "code",
   "execution_count": 22,
   "metadata": {},
   "outputs": [
    {
     "data": {
      "text/plain": [
       "array([0.33333333, 0.58333333, 0.75      , 1.        ])"
      ]
     },
     "execution_count": 22,
     "metadata": {},
     "output_type": "execute_result"
    }
   ],
   "source": [
    "np.cumsum(prob)"
   ]
  },
  {
   "cell_type": "code",
   "execution_count": 23,
   "metadata": {},
   "outputs": [
    {
     "data": {
      "text/plain": [
       "array([[0., 0., 0., 0.],\n",
       "       [0., 0., 0., 0.],\n",
       "       [0., 0., 0., 0.],\n",
       "       [0., 0., 0., 0.]])"
      ]
     },
     "execution_count": 23,
     "metadata": {},
     "output_type": "execute_result"
    }
   ],
   "source": [
    "np.zeros((4,4))"
   ]
  },
  {
   "cell_type": "code",
   "execution_count": 24,
   "metadata": {},
   "outputs": [],
   "source": [
    "u = np.random.uniform(size=n*40).reshape(40,n)\n",
    "cprob = np.cumsum(prob)"
   ]
  },
  {
   "cell_type": "code",
   "execution_count": 25,
   "metadata": {},
   "outputs": [
    {
     "data": {
      "text/plain": [
       "array([3335109, 3333869, 3332043, 3334483, 3336050, 3335475, 3331769,\n",
       "       3335522, 3334968, 3334536, 3337185, 3333818, 3334951, 3334378,\n",
       "       3334648, 3332276, 3335064, 3332956, 3333407, 3334703, 3332498,\n",
       "       3331921, 3331438, 3332002, 3333447, 3332869, 3331317, 3333530,\n",
       "       3331626, 3333747, 3333565, 3331442, 3333239, 3333949, 3333035,\n",
       "       3333522, 3335920, 3333454, 3333837, 3332173])"
      ]
     },
     "execution_count": 25,
     "metadata": {},
     "output_type": "execute_result"
    }
   ],
   "source": [
    "(u<cprob[0]).sum(axis=1)"
   ]
  },
  {
   "cell_type": "code",
   "execution_count": 26,
   "metadata": {},
   "outputs": [
    {
     "data": {
      "text/plain": [
       "array([2.66666667, 2.33333333, 1.75      , 1.        ])"
      ]
     },
     "execution_count": 26,
     "metadata": {},
     "output_type": "execute_result"
    }
   ],
   "source": [
    "np.cumsum(cprob[::-1])[::-1] "
   ]
  },
  {
   "cell_type": "code",
   "execution_count": 27,
   "metadata": {},
   "outputs": [
    {
     "data": {
      "text/plain": [
       "array([0.33333333, 0.58333333, 0.75      , 1.        ])"
      ]
     },
     "execution_count": 27,
     "metadata": {},
     "output_type": "execute_result"
    }
   ],
   "source": [
    "cprob"
   ]
  },
  {
   "cell_type": "code",
   "execution_count": 28,
   "metadata": {},
   "outputs": [
    {
     "data": {
      "text/plain": [
       "array([0.25      , 0.16666667, 0.25      ])"
      ]
     },
     "execution_count": 28,
     "metadata": {},
     "output_type": "execute_result"
    }
   ],
   "source": [
    "np.diff(cprob) "
   ]
  },
  {
   "cell_type": "code",
   "execution_count": null,
   "metadata": {},
   "outputs": [],
   "source": []
  }
 ],
 "metadata": {
  "kernelspec": {
   "display_name": "Python 3",
   "language": "python",
   "name": "python3"
  },
  "language_info": {
   "codemirror_mode": {
    "name": "ipython",
    "version": 2
   },
   "file_extension": ".py",
   "mimetype": "text/x-python",
   "name": "python",
   "nbconvert_exporter": "python",
   "pygments_lexer": "ipython2",
   "version": "2.7.15"
  },
  "latex_envs": {
   "LaTeX_envs_menu_present": true,
   "autoclose": false,
   "autocomplete": true,
   "bibliofile": "biblio.bib",
   "cite_by": "apalike",
   "current_citInitial": 1,
   "eqLabelWithNumbers": true,
   "eqNumInitial": 1,
   "hotkeys": {
    "equation": "Ctrl-E",
    "itemize": "Ctrl-I"
   },
   "labels_anchors": false,
   "latex_user_defs": false,
   "report_style_numbering": false,
   "user_envs_cfg": false
  },
  "toc": {
   "base_numbering": 1,
   "nav_menu": {},
   "number_sections": true,
   "sideBar": true,
   "skip_h1_title": false,
   "title_cell": "Table of Contents",
   "title_sidebar": "Contents",
   "toc_cell": false,
   "toc_position": {},
   "toc_section_display": true,
   "toc_window_display": false
  },
  "varInspector": {
   "cols": {
    "lenName": 16,
    "lenType": 16,
    "lenVar": 40
   },
   "kernels_config": {
    "python": {
     "delete_cmd_postfix": "",
     "delete_cmd_prefix": "del ",
     "library": "var_list.py",
     "varRefreshCmd": "print(var_dic_list())"
    },
    "r": {
     "delete_cmd_postfix": ") ",
     "delete_cmd_prefix": "rm(",
     "library": "var_list.r",
     "varRefreshCmd": "cat(var_dic_list()) "
    }
   },
   "types_to_exclude": [
    "module",
    "function",
    "builtin_function_or_method",
    "instance",
    "_Feature"
   ],
   "window_display": false
  }
 },
 "nbformat": 4,
 "nbformat_minor": 2
}
