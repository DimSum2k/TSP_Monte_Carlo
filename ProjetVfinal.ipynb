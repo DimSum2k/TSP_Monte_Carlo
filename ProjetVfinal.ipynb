{
 "cells": [
  {
   "cell_type": "markdown",
   "metadata": {},
   "source": [
    "# Simulation d'observations de loi multinomiale "
   ]
  },
  {
   "cell_type": "markdown",
   "metadata": {},
   "source": [
    "Nous souhaitons simuler des observations d'une loi multinomiale: \n",
    "\n",
    "Considérons l'expérience où on extrait $n$ boules de $k$ différentes couleurs d'une urne avec remise. Les boules de la même couleur sont équivalents. Soit $X_i$ la variable qui compte le nombre de balles de couleur $i$ extraites ($i = 1, \\cdots, k$), et soit $p_i$ la probabilité d'extraire une boule de couleur $i$. La probabilité de cette loi multinomiale est alors donnée part :\n",
    "\n",
    "<math> \\begin{align}\n",
    "f(x_1,\\ldots,x_k;n,p_1,\\ldots,p_k) & {} = \\mathbb{P}(X_1 = x_1, \\dots, X_k = x_k) \\\\\n",
    "& {} = \\begin{cases} { \\displaystyle {n! \\over x_1!\\cdots x_k!}p_1^{x_1}\\times\\cdots\\times p_k^{x_k}}, \\quad &\n",
    "\\text{quand } \\sum_{i=1}^k x_i=n \\\\  \\\\\n",
    "0 & \\text{sinon} \\end{cases}\n",
    "\\end{align}\n",
    "</math>\n",
    "\n"
   ]
  },
  {
   "cell_type": "markdown",
   "metadata": {},
   "source": [
    "## Algorithme de simulation : méthode de la fonction inverse"
   ]
  },
  {
   "cell_type": "markdown",
   "metadata": {},
   "source": [
    "On peut voir une loi multinomiale comme la répétion de n expériences indépendantes à k issues possibles dont on a ensuite rassemblé les issues (compté le nombre de boules pour chaque couleur). On peut donc simuler chacune des expériences indépendamment. \n",
    "\n",
    "Pour générer une variable aléatoire discrète prenant pour valeur $1, \\cdots, k$ avec proba $p_1, \\cdots, p_k$ il suffit d'appliquer la méthode de la fonction inverse (avec inverse généralisée comme on est dans le cas discret). Plus clairement, on génére $U$ une variable aléatoire uniforme sur $[0,1]$ et on regarde dans quel \"bins\" on tombe, i.e, on calcule :  \n",
    "\n",
    "$$j = \\min \\left\\{ j' \\in \\{1,\\dots,k\\} : \\left(\\sum_{i=1}^{j'} p_i\\right) - U \\geq 0 \\right\\}$$\n",
    "\n",
    "En répétant cette algorithme n fois et en rassamblant les issus on obtient une observation multinomiale. Nous présentons dans la cellule suivante l'algorithme \"multinomial1\" quie met en place cette statégie sans finesse. L'algorithme \"multinomial2\" est une version vectorisée, plus difficile à déchiffrer mais beaucoup plus rapide. Dans tous les cas on ne pourra pas battre les algos de numpy qui sont implémenté directement en C++."
   ]
  },
  {
   "cell_type": "code",
   "execution_count": 3,
   "metadata": {},
   "outputs": [],
   "source": [
    "import numpy as np "
   ]
  },
  {
   "cell_type": "markdown",
   "metadata": {},
   "source": [
    "### Version numpy"
   ]
  },
  {
   "cell_type": "code",
   "execution_count": 7,
   "metadata": {},
   "outputs": [
    {
     "name": "stdout",
     "output_type": "stream",
     "text": [
      "(100, 4)\n",
      "[[0.33334158 0.24998011 0.1666771  0.25000121]]\n",
      "CPU times: user 574 µs, sys: 172 µs, total: 746 µs\n",
      "Wall time: 562 µs\n"
     ]
    }
   ],
   "source": [
    "%%time\n",
    "#Genere 100 observations multinomiale de paramètre n=1 milliard et p = [1./3,1./4,1./6,3./12]\n",
    "mult = np.random.multinomial(1e9, [1./3,1./4,1./6,3./12], size=100)\n",
    "print(mult.shape)\n",
    "#On retrouve empiriquement les probas théoriques\n",
    "print((mult/1e9)[:1,:])"
   ]
  },
  {
   "cell_type": "markdown",
   "metadata": {},
   "source": [
    "### Version simple"
   ]
  },
  {
   "cell_type": "code",
   "execution_count": 1,
   "metadata": {},
   "outputs": [],
   "source": [
    "def multinomial1(n,prob,size=1,seed=42):\n",
    "    \"\"\"size = nombre d'observations multinomiale\n",
    "    seed permet de fixer l'aléatoire\n",
    "    \n",
    "    Attention, meme si le vecteur en entré n'est pas trié, \n",
    "    la sortie est toujours trié par ordre décroissant\"\"\"\n",
    "    \n",
    "    np.random.seed(42)\n",
    "     \n",
    "    if abs(np.sum(prob)-1)>10e-16:\n",
    "        return \"Probabilités ne somment pas à 1\"\n",
    "    \n",
    "    prob = np.sort(prob)[::-1] #tri par ordre décroissant, plus rapide\n",
    "    \n",
    "    u = np.random.uniform(size=n*size).reshape(size,n)\n",
    "    output = np.zeros((size,len(prob)))\n",
    "    for step in range(size):\n",
    "        for el in u[step,:]:\n",
    "            #pour chaque u on rejoute +1 pour la bins dans laquelle il tome\n",
    "            output[step,get_bin(el,prob)] += 1\n",
    "        \n",
    "    return output\n",
    "    \n",
    "    \n",
    "def get_bin(u,prob):\n",
    "    '''Permet d'obtenir la bins dans laquelle tome un element selon un vecteur de proba'''\n",
    "    cumprob = np.cumsum(prob)\n",
    "    for i,p in enumerate(cumprob):\n",
    "        if u<p:\n",
    "            return i"
   ]
  },
  {
   "cell_type": "code",
   "execution_count": 8,
   "metadata": {},
   "outputs": [
    {
     "name": "stdout",
     "output_type": "stream",
     "text": [
      "CPU times: user 5.25 s, sys: 58 ms, total: 5.31 s\n",
      "Wall time: 5.49 s\n"
     ]
    }
   ],
   "source": [
    "%%time\n",
    "n = int(1e5)\n",
    "test = multinomial1(n,np.array([1./3,1./4,1./6,3./12]),size=20)\n",
    "#print(test/float(n))"
   ]
  },
  {
   "cell_type": "markdown",
   "metadata": {},
   "source": [
    "### Version vectorisée"
   ]
  },
  {
   "cell_type": "code",
   "execution_count": 9,
   "metadata": {},
   "outputs": [],
   "source": [
    "def multinomial2(n,prob,size=1,seed=42):\n",
    "    \"\"\"Genere une loi multinomiale, approche plus vectorielle que la premiere\n",
    "    size = nombre d'observations multinomiale\n",
    "    seed permet de fixer l'aléatoire\n",
    "    \n",
    "    Attention, meme si le vecteur en entré n'est pas trié, \n",
    "    la sortie est toujours trié par ordre décroissant\"\"\"\n",
    "    \n",
    "    np.random.seed(seed)\n",
    "     \n",
    "    if abs(np.sum(prob)-1)>10e-16:\n",
    "        return \"Probabilités ne somment pas à 1\"\n",
    "    \n",
    "    prob = np.sort(prob)[::-1] \n",
    "    \n",
    "    u = np.random.uniform(size=n*size).reshape(size,n)\n",
    "    output = np.zeros((size,len(prob)))\n",
    "    \n",
    "    cprob = np.cumsum(prob)\n",
    "    \n",
    "    for i,p in enumerate(cprob):\n",
    "        if i==0:\n",
    "            output[:,i] = (u<cprob[i]).sum(axis=1)\n",
    "        else : \n",
    "            output[:,i] = ((u<cprob[i]) & (u>=cprob[i-1])).sum(axis=1)\n",
    "   # output = np.concatenate((output[:,0].reshape(-1,1),np.diff(output,axis=1)),axis=1)\n",
    "        \n",
    "    return output"
   ]
  },
  {
   "cell_type": "code",
   "execution_count": 10,
   "metadata": {},
   "outputs": [
    {
     "name": "stdout",
     "output_type": "stream",
     "text": [
      "[[0.33439 0.24914 0.25124 0.16523]\n",
      " [0.33104 0.25022 0.25053 0.16821]\n",
      " [0.333   0.24922 0.25067 0.16711]\n",
      " [0.33536 0.2493  0.24995 0.16539]]\n",
      "CPU times: user 52.3 ms, sys: 7.91 ms, total: 60.2 ms\n",
      "Wall time: 89.2 ms\n"
     ]
    }
   ],
   "source": [
    "%%time\n",
    "n = int(1e5)\n",
    "test = multinomial2(n,np.array([1./3,1./4,1./6,3./12]),size=20)\n",
    "print((test/float(n))[:4,:])"
   ]
  },
  {
   "cell_type": "markdown",
   "metadata": {},
   "source": [
    "Beaucoup plus rapide ! Pour l'application de la CE méthode au problème TSP nous utiliserons les fonctions numpy np.choice et np.random.multinomial bien plus rapides que les notres."
   ]
  },
  {
   "cell_type": "markdown",
   "metadata": {},
   "source": [
    "# TSP problem using CE Method "
   ]
  },
  {
   "cell_type": "code",
   "execution_count": 11,
   "metadata": {},
   "outputs": [],
   "source": [
    "import sys\n",
    "import numpy as np\n",
    "import pandas as pd\n",
    "import matplotlib.pyplot as plt\n",
    "from itertools import permutations"
   ]
  },
  {
   "cell_type": "markdown",
   "metadata": {},
   "source": [
    "## Classe TSP"
   ]
  },
  {
   "cell_type": "code",
   "execution_count": 12,
   "metadata": {},
   "outputs": [],
   "source": [
    "class TSP(object):\n",
    "    \"\"\"Classe permettant de résoudre un problème TSP, deux versions sont disponibles :\n",
    "        -la version originale proposée par les auteurs de la méthode (avec un smooth update possible)\n",
    "        -une version considérant une approche bayésienne\n",
    "    \n",
    "    Attributs à entrer par l'utilisateur:\n",
    "        c: matrice de poids pour les trajets entre les villes.\n",
    "        methode: au choix entre \"CE\" pour la 1ere version et \"Bayes\" pour la 2nd\n",
    "        k: nombre de simulations pour chaque update de la forme k*(nombre villes)^2 \n",
    "        perc: percentile fixé dans l'algo (int entre 1 et 100) \n",
    "        seed: graine pour fixer l'aléatoire \n",
    "        stop: critère d'arrêt (on s'arrète quand les d derniers quantiles sont les mêmes)\n",
    "        alpha: \"smoothing\" parameter (1ere version only)\n",
    "        \n",
    "    Attributs:\n",
    "        n: nombre de villes\n",
    "        N: nombre de simulations pour chaque update\n",
    "        p: matrice de transition entre les villes (pij proba de passer de la ville i à la ville j),\n",
    "           initialisée par des Dirichlet uniformes\n",
    "        p_old: version de p de l'update précédent (1ere version only)\n",
    "        r: matrice des paramètres de Dirichlet (chaque ligne correspond à une Dirichlet), \n",
    "           initialisée avec alpha=1 (2eme version only)\n",
    "        r_old: version de r de l'update précédent (2eme version only)\n",
    "        solution: sauvegarde la tour optimal\n",
    "        show_p: fréquence d'affichage de la matrice de transition en output\n",
    "        show_q: fréquence d'affichage du plot des quantiles en output\n",
    "        \n",
    "        \n",
    "    Méthodes: (Voir aide spécifique à chaque méthode pour plus de détails)\n",
    "    \"\"\"\n",
    "    \n",
    "    def __init__(self, c, methode=\"CE\", k=10, perc=1, alpha=0.9, seed=None, stop=5, show_p=5,show_q=10):\n",
    "        \"\"\"Constructeur de la classe TSPBayes\"\"\"\n",
    "        \n",
    "        if methode not in [\"CE\",\"Bayes\"]:\n",
    "            print(\"Mauvaise méthode, méthodes disponibles : Bayes, CE\")\n",
    "            sys.exit(1)\n",
    "            \n",
    "        self.c = c\n",
    "        self.methode = methode\n",
    "        self.n = c.shape[0]\n",
    "        self.N = k * self.n**2\n",
    "        self.perc = perc\n",
    "        self.seed = seed\n",
    "        self.stop = stop\n",
    "        self.solution = None\n",
    "        self.show_p = show_p\n",
    "        self.show_q = show_q\n",
    "        if self.methode==\"CE\":\n",
    "            self.alpha = alpha\n",
    "            self.p=(np.ones((self.n,self.n))-np.eye(self.n))*(1/float(self.n-1))\n",
    "            self.p_old = self.p\n",
    "            \n",
    "        if self.methode==\"Bayes\":\n",
    "            self.p = self.p_init()\n",
    "            self.r = np.ones((self.n,self.n)) - np.eye(self.n)\n",
    "            self.r_old = self.r\n",
    "\n",
    "    def gen_dir(self,alpha):\n",
    "        '''Simule 1 observation de loi de Dirichlet. (2eme version only)\n",
    "        Ne prend en compte que les paramètres positifs'''\n",
    "        \n",
    "        alpha = alpha[alpha>0]\n",
    "        \n",
    "        return np.random.dirichlet(alpha,1)\n",
    "        \n",
    "\n",
    "    def p_init(self):\n",
    "        \"\"\"Initialise la matrice p avec des Dirichlet uniformes (2eme version only)\n",
    "        Chaque ligne est simulée selon une Dirichlet(1,...,1) \n",
    "        \"\"\"\n",
    "        \n",
    "        p = np.zeros((self.n,self.n))\n",
    "        \n",
    "        for i in range(self.n):\n",
    "            \n",
    "            row = self.gen_dir(np.tile(1,self.n-1))\n",
    "            #On insert des 0 car la matrice p ne doit contenir que des 0 sur sa diagonale\n",
    "            row = np.insert(row,i,0)\n",
    "            p[i,:] = row\n",
    "\n",
    "        return p\n",
    "        \n",
    "    def generate_tours(self):\n",
    "        \"\"\"Génère N tours selon les probabilités de transition de p\n",
    "        Retourne une matrice de taille N*n où chaque ligne est un tour\"\"\"\n",
    "    \n",
    "        #première ville toujours 0 (mieux de prendre 0 que 1 pour les indices des matrices)\n",
    "        #Fixer la ville de départ se fait sans perte de généralité\n",
    "        tours = np.zeros((self.N,(self.n+1)),dtype=int)\n",
    "\n",
    "        for obs in range(self.N):\n",
    "            \n",
    "            p = self.p.copy()\n",
    "            \n",
    "            for step in range(1,(self.n)):\n",
    "                \n",
    "                #colonne dernière ville du tour mise à 0 pour qu'on n'y repasse pas\n",
    "                p[:,tours[obs,(step-1)]] = 0 \n",
    "                \n",
    "                with np.errstate(invalid='ignore', divide='ignore'): \n",
    "                    p = (np.divide(p.T,p.sum(axis=1))).T #renormalise pour que les colonnes somment à 1\n",
    "                \n",
    "                #génère une multinomiale(1,p1,...,pn) pour trouver la prochaine ville\n",
    "                tours[obs,step] = np.random.choice(np.arange(self.n),1, p=p[tours[obs,(step-1)],:])[0]\n",
    "                \n",
    "            tours[obs,-1] = 0 #retour à la ville 0 (départ)\n",
    "            \n",
    "        return tours\n",
    "        \n",
    "    def S(self,x):\n",
    "        '''Calcule la performance du tour par rapport à la matrice de poids c\n",
    "        Performance = somme des distances parcourues entre les villes'''\n",
    "        \n",
    "        score = 0\n",
    "        for i in range(len(x)-1):\n",
    "            score += self.c[x[i],x[i+1]] #cout d'aller d'une ville à une autre \n",
    "\n",
    "        return score\n",
    "    \n",
    "    def construct_mult(self,x,score,q):\n",
    "        '''Construction des observations multinomiales à partir des tours, \n",
    "        de leur score et du quantile (2eme version only)'''\n",
    "        \n",
    "        m =  np.zeros_like(self.r)\n",
    "    \n",
    "        x = x[score<=q,:]\n",
    "        \n",
    "        for obs in range(x.shape[0]):\n",
    "            \n",
    "            for idx in range(x.shape[1]-1):\n",
    "                i = x[obs,idx]\n",
    "                j = x[obs,idx+1]\n",
    "                m[i,j] += 1\n",
    "   \n",
    "        return m\n",
    "\n",
    "    \n",
    "    def update_Bayes(self,x,score,q):\n",
    "        '''Update bayésien de la matrice p. (2eme version only)\n",
    "        Calcul des nouveau coefficients des Dirichlet par la formule de Bayes \n",
    "        simulation de la nouvelle matrice p par ces lois Dirichlet'''\n",
    "        \n",
    "        r_temp = self.r.copy()\n",
    "        self.r = self.construct_mult(x,score,q)\n",
    "        self.r_old = r_temp\n",
    "        \n",
    "        self.r = self.r + self.r_old\n",
    "        \n",
    "        p = np.zeros((self.n,self.n))\n",
    "        \n",
    "        for i in range(self.n):\n",
    "            \n",
    "            u = self.gen_dir(self.r[i,:])\n",
    "            u = np.insert(u,i,0)\n",
    "            p[i,:] = u\n",
    "            \n",
    "        self.p = p\n",
    "            \n",
    "        return None\n",
    "    \n",
    "    def update_CE(self,x, score,q):\n",
    "        '''Permet de faire l'update \"smooth\" des probas de transition pij (1ere version only)\n",
    "        la methode \"smooth\" evite les problemes avec des 0 au mauvais endroits'''\n",
    "        self.p_old = self.p.copy()\n",
    "        p =  np.zeros_like(self.p)\n",
    "        \n",
    "        x = x[score<=q,:]\n",
    "        \n",
    "        for obs in range(x.shape[0]):\n",
    "            \n",
    "            for idx in range(x.shape[1]-1):\n",
    "                i = x[obs,idx]\n",
    "                j = x[obs,idx+1]\n",
    "                p[i,j] += 1\n",
    "\n",
    "        p = np.divide(p,float(x.shape[0]))\n",
    "        \n",
    "        self.p = self.alpha*p + (1-self.alpha)*self.p_old\n",
    "             \n",
    "        return None\n",
    "    \n",
    "    \n",
    "    def show_prob(self):\n",
    "        '''Affiche p sous forme de HeatMap'''\n",
    "        \n",
    "        plt.figure(figsize=(8,8))\n",
    "        plt.matshow(self.p,fignum=1)\n",
    "        plt.xlabel('j')\n",
    "        plt.ylabel('i')\n",
    "        plt.grid('off')\n",
    "        plt.colorbar()\n",
    "        plt.show()\n",
    "    \n",
    " \n",
    "    def CE_fit(self):\n",
    "        \n",
    "        if self.seed: \n",
    "         #fixe aléa\n",
    "         np.random.seed(self.seed)\n",
    "         \n",
    "        #Critére d'arrêt : les 'stop' derniers quantiles calculés sont les mêmes, q_memory les stockent\n",
    "        #q_memory = np.zeros(self.stop)\n",
    "        q_memory = np.array([])\n",
    "        \n",
    "        epoch = 0\n",
    "        best_score = np.infty\n",
    "        \n",
    "        print(\"Vous utilisez la méthode : {}\".format(self.methode))\n",
    "        \n",
    "        while True:\n",
    "            epoch += 1\n",
    "            print(\"Epoch {}\".format(epoch))\n",
    "            \n",
    "            #genere les \"tours\"\n",
    "            x = self.generate_tours().astype(np.int)\n",
    "            \n",
    "            #calcul du score pour chaque tour\n",
    "            score = np.apply_along_axis(lambda x: self.S(x),1,x)\n",
    "            \n",
    "            #quantile\n",
    "            q = np.percentile(score,self.perc)\n",
    "            \n",
    "            best = np.min(score)\n",
    "            if best < best_score: \n",
    "                best_score = best\n",
    "                self.solution = x[np.argmin(score),:]\n",
    "                \n",
    "            print(\"Quantile : {}, Meilleur score : {}\".format(q,best))\n",
    "            \n",
    "            q_memory = np.append(q_memory,[q])\n",
    "                        \n",
    "            if epoch%self.show_p==0: \n",
    "                self.show_prob()\n",
    "                \n",
    "            if epoch%self.show_q==0: \n",
    "                plt.plot(q_memory)\n",
    "                plt.show()\n",
    "            \n",
    "            if self.methode==\"CE\":\n",
    "                #smooth update\n",
    "                self.update_CE(x,score,q)\n",
    "                \n",
    "            if self.methode==\"Bayes\":\n",
    "                self.update_Bayes(x,score,q)\n",
    "                \n",
    "            #si les 5 derniers quantiles sont les mêmes ont arrête\n",
    "            if len(q_memory)>5:\n",
    "                if len(set(q_memory[-self.stop:]))==1 : break  \n",
    "        \n",
    "        #Affichage finale\n",
    "        self.show_prob()\n",
    "        plt.plot(q_memory)\n",
    "        plt.show()\n",
    "        print(\"final epoch {}, dernier quantile : {}\".format(epoch,q))\n",
    "        print(\"Meilleur score {}, solution : {}\".format(best_score,self.solution))\n",
    "                \n",
    "        return"
   ]
  },
  {
   "cell_type": "markdown",
   "metadata": {},
   "source": [
    "## Fonctions d'aide"
   ]
  },
  {
   "cell_type": "code",
   "execution_count": 13,
   "metadata": {},
   "outputs": [],
   "source": [
    "def get_distance_from_cartesian(arr):\n",
    "    '''Fonction permettant de calculer la matrice des distances à partir d'une liste de coordonnées cartésiennes'''\n",
    "    \n",
    "    n = arr.shape[0]\n",
    "    c = np.zeros((n,n))\n",
    "    \n",
    "    for i in range(n):\n",
    "        for j in range(i,n):\n",
    "            c[i,j] = np.sqrt((arr[i,0]-arr[j,0])**2 + (arr[i,1]-arr[j,1])**2)\n",
    "            \n",
    "    c += c.T\n",
    "    \n",
    "    return c"
   ]
  },
  {
   "cell_type": "code",
   "execution_count": 14,
   "metadata": {},
   "outputs": [],
   "source": [
    "from math import sin, cos, sqrt, atan2, radians\n",
    "\n",
    "def get_distance_from_geographic(arr):\n",
    "    '''Fonction permettant de calculer la matrice des distances à partir d'une liste\n",
    "    de latitudes et longitudes'''\n",
    "    \n",
    "    # approximate radius of earth in km\n",
    "    R = 6373.0\n",
    "    n = arr.shape[0]\n",
    "    distance_mat = np.zeros((n,n))\n",
    "    \n",
    "    for i in range(n):\n",
    "        for j in range(i,n):\n",
    "        \n",
    "            lat1 = radians(arr[i,0])\n",
    "            lon1 = radians(arr[i,1])\n",
    "            lat2 = radians(arr[j,0])\n",
    "            lon2 = radians(arr[j,1])\n",
    "            \n",
    "            dlon = lon2 - lon1\n",
    "            dlat = lat2 - lat1\n",
    "\n",
    "            a = sin(dlat / 2)**2 + cos(lat1) * cos(lat2) * sin(dlon / 2)**2\n",
    "            c = 2 * atan2(sqrt(a), sqrt(1 - a))\n",
    "\n",
    "            distance = R * c\n",
    "            distance_mat[i,j] = distance\n",
    "            \n",
    "    distance_mat += distance_mat.T\n",
    "    \n",
    "    return distance_mat"
   ]
  },
  {
   "cell_type": "code",
   "execution_count": 15,
   "metadata": {},
   "outputs": [],
   "source": [
    "def CE_solution(c,method=\"CE\",k=10,perc=1,alpha=0.9):\n",
    "    '''Fit la classe TSP sur un matrice de distances c'''\n",
    "    \n",
    "    tsp = TSP(c,k=k,perc=perc,methode=method,alpha=alpha)\n",
    "    tsp.CE_fit()\n",
    "    return tsp"
   ]
  },
  {
   "cell_type": "code",
   "execution_count": 16,
   "metadata": {},
   "outputs": [],
   "source": [
    "def plot_solution_cartesian(tsp,d):\n",
    "    '''\n",
    "    Plot la solution du tour optimal pour des points de coordonnées cartésiennes\n",
    "    \n",
    "    tsp : objet TSP fitté, \n",
    "    d :  matrice contenant les coordonnées cartésiennes'''\n",
    "\n",
    "    #Ensemble de points\n",
    "    print(\"Ensemble des villes dans le plan\")\n",
    "    plt.plot(d[:,0],d[:,1],\".\")\n",
    "    plt.axis(\"off\")\n",
    "    plt.show()\n",
    "    \n",
    "    #Solution\n",
    "    print(\"Trajet optimal\")\n",
    "    permut = tsp.solution\n",
    "    plt.plot(my_data[permut,0],my_data[permut,1])\n",
    "    plt.axis(\"off\")\n",
    "    plt.show()"
   ]
  },
  {
   "cell_type": "markdown",
   "metadata": {},
   "source": [
    "## Example à 10 villes"
   ]
  },
  {
   "cell_type": "code",
   "execution_count": 19,
   "metadata": {},
   "outputs": [
    {
     "name": "stdout",
     "output_type": "stream",
     "text": [
      "(10, 2)\n"
     ]
    },
    {
     "data": {
      "text/plain": [
       "array([[-1.0856306 , -0.67888615],\n",
       "       [ 0.99734545, -0.09470897],\n",
       "       [ 0.2829785 ,  1.49138963],\n",
       "       [-1.50629471, -0.638902  ],\n",
       "       [-0.57860025, -0.44398196],\n",
       "       [ 1.65143654, -0.43435128],\n",
       "       [-2.42667924,  2.20593008],\n",
       "       [-0.42891263,  2.18678609],\n",
       "       [ 1.26593626,  1.0040539 ],\n",
       "       [-0.8667404 ,  0.3861864 ]])"
      ]
     },
     "execution_count": 19,
     "metadata": {},
     "output_type": "execute_result"
    }
   ],
   "source": [
    "my_data = np.genfromtxt('tiny.csv', delimiter=',')\n",
    "print(my_data.shape)\n",
    "my_data"
   ]
  },
  {
   "cell_type": "code",
   "execution_count": 20,
   "metadata": {},
   "outputs": [
    {
     "data": {
      "text/plain": [
       "(10, 10)"
      ]
     },
     "execution_count": 20,
     "metadata": {},
     "output_type": "execute_result"
    }
   ],
   "source": [
    "#on récupères les distance à partir des coordonnées cartésiennes\n",
    "c = get_distance_from_cartesian(my_data)\n",
    "c.shape"
   ]
  },
  {
   "cell_type": "markdown",
   "metadata": {},
   "source": [
    "### Solution SmoothUpdate"
   ]
  },
  {
   "cell_type": "markdown",
   "metadata": {},
   "source": [
    "L'algorithme affiche pour chaque update le quantile calculé sur les scores et le meilleure score.\n",
    "\n",
    "Toutes les 5 updates la matrice de transition P (de plus en plus sparse).\n",
    "\n",
    "Tous les 10 updates le plot de l'évolution est quantiles."
   ]
  },
  {
   "cell_type": "code",
   "execution_count": 29,
   "metadata": {
    "scrolled": true
   },
   "outputs": [
    {
     "name": "stdout",
     "output_type": "stream",
     "text": [
      "Vous utilisez la méthode : CE\n",
      "Epoch 1\n",
      "Quantile : 17.0378308936, Meilleur score : 15.5921232795\n",
      "Epoch 2\n",
      "Quantile : 13.6610608807, Meilleur score : 12.7852228494\n",
      "Epoch 3\n",
      "Quantile : 12.5169780398, Meilleur score : 12.5169780398\n",
      "Epoch 4\n",
      "Quantile : 12.5169780398, Meilleur score : 12.5169780398\n",
      "Epoch 5\n",
      "Quantile : 12.5169780398, Meilleur score : 12.5169780398\n"
     ]
    },
    {
     "data": {
      "image/png": "[encoded data removed]",
      "text/plain": [
       "<Figure size 576x576 with 2 Axes>"
      ]
     },
     "metadata": {},
     "output_type": "display_data"
    },
    {
     "name": "stdout",
     "output_type": "stream",
     "text": [
      "Epoch 6\n",
      "Quantile : 12.5169780398, Meilleur score : 12.5169780398\n",
      "Epoch 7\n",
      "Quantile : 12.5169780398, Meilleur score : 12.5169780398\n"
     ]
    },
    {
     "data": {
      "image/png": "[encoded data removed]",
      "text/plain": [
       "<Figure size 576x576 with 2 Axes>"
      ]
     },
     "metadata": {},
     "output_type": "display_data"
    },
    {
     "data": {
      "image/png": "[encoded data removed]",
      "text/plain": [
       "<Figure size 432x288 with 1 Axes>"
      ]
     },
     "metadata": {},
     "output_type": "display_data"
    },
    {
     "name": "stdout",
     "output_type": "stream",
     "text": [
      "final epoch 7, dernier quantile : 12.5169780398\n",
      "Meilleur score 12.5169780398, solution : [0 4 1 5 8 2 7 6 9 3 0]\n",
      "CPU times: user 4.36 s, sys: 111 ms, total: 4.47 s\n",
      "Wall time: 4.05 s\n"
     ]
    }
   ],
   "source": [
    "%%time\n",
    "tsp1 = CE_solution(c,method=\"CE\")"
   ]
  },
  {
   "cell_type": "code",
   "execution_count": 30,
   "metadata": {},
   "outputs": [
    {
     "name": "stdout",
     "output_type": "stream",
     "text": [
      "[0 4 1 5 8 2 7 6 9 3 0]\n"
     ]
    }
   ],
   "source": [
    "print(tsp1.solution)"
   ]
  },
  {
   "cell_type": "code",
   "execution_count": 31,
   "metadata": {},
   "outputs": [
    {
     "name": "stdout",
     "output_type": "stream",
     "text": [
      "Ensemble des villes dans le plan\n"
     ]
    },
    {
     "data": {
      "image/png": "[encoded data removed]",
      "text/plain": [
       "<Figure size 432x288 with 1 Axes>"
      ]
     },
     "metadata": {},
     "output_type": "display_data"
    },
    {
     "name": "stdout",
     "output_type": "stream",
     "text": [
      "Trajet optimal\n"
     ]
    },
    {
     "data": {
      "image/png": "[encoded data removed]",
      "text/plain": [
       "<Figure size 432x288 with 1 Axes>"
      ]
     },
     "metadata": {},
     "output_type": "display_data"
    }
   ],
   "source": [
    "plot_solution_cartesian(tsp1,my_data)"
   ]
  },
  {
   "cell_type": "markdown",
   "metadata": {},
   "source": [
    "### Solution Bayésienne"
   ]
  },
  {
   "cell_type": "code",
   "execution_count": 32,
   "metadata": {
    "scrolled": true
   },
   "outputs": [
    {
     "name": "stdout",
     "output_type": "stream",
     "text": [
      "Vous utilisez la méthode : Bayes\n",
      "Epoch 1\n",
      "Quantile : 17.1710174403, Meilleur score : 14.4618153458\n",
      "Epoch 2\n",
      "Quantile : 15.0809003788, Meilleur score : 13.5915256384\n",
      "Epoch 3\n",
      "Quantile : 13.5915256384, Meilleur score : 12.5169780398\n",
      "Epoch 4\n",
      "Quantile : 12.7852228494, Meilleur score : 12.5169780398\n",
      "Epoch 5\n",
      "Quantile : 12.5169780398, Meilleur score : 12.5169780398\n"
     ]
    },
    {
     "data": {
      "image/png": "[encoded data removed]",
      "text/plain": [
       "<Figure size 576x576 with 2 Axes>"
      ]
     },
     "metadata": {},
     "output_type": "display_data"
    },
    {
     "name": "stdout",
     "output_type": "stream",
     "text": [
      "Epoch 6\n",
      "Quantile : 12.5169780398, Meilleur score : 12.5169780398\n",
      "Epoch 7\n",
      "Quantile : 12.5169780398, Meilleur score : 12.5169780398\n",
      "Epoch 8\n",
      "Quantile : 12.5169780398, Meilleur score : 12.5169780398\n",
      "Epoch 9\n",
      "Quantile : 12.5169780398, Meilleur score : 12.5169780398\n"
     ]
    },
    {
     "data": {
      "image/png": "[encoded data removed]",
      "text/plain": [
       "<Figure size 576x576 with 2 Axes>"
      ]
     },
     "metadata": {},
     "output_type": "display_data"
    },
    {
     "data": {
      "image/png": "[encoded data removed]",
      "text/plain": [
       "<Figure size 432x288 with 1 Axes>"
      ]
     },
     "metadata": {},
     "output_type": "display_data"
    },
    {
     "name": "stdout",
     "output_type": "stream",
     "text": [
      "final epoch 9, dernier quantile : 12.5169780398\n",
      "Meilleur score 12.5169780398, solution : [0 3 9 6 7 2 8 5 1 4 0]\n",
      "CPU times: user 5.67 s, sys: 138 ms, total: 5.81 s\n",
      "Wall time: 5.5 s\n"
     ]
    }
   ],
   "source": [
    "%%time\n",
    "tsp2 = CE_solution(c,method=\"Bayes\")"
   ]
  },
  {
   "cell_type": "code",
   "execution_count": 33,
   "metadata": {},
   "outputs": [
    {
     "name": "stdout",
     "output_type": "stream",
     "text": [
      "[0 3 9 6 7 2 8 5 1 4 0]\n"
     ]
    }
   ],
   "source": [
    "print(tsp2.solution)"
   ]
  },
  {
   "cell_type": "code",
   "execution_count": 34,
   "metadata": {
    "scrolled": true
   },
   "outputs": [
    {
     "name": "stdout",
     "output_type": "stream",
     "text": [
      "Ensemble des villes dans le plan\n"
     ]
    },
    {
     "data": {
      "image/png": "[encoded data removed]",
      "text/plain": [
       "<Figure size 432x288 with 1 Axes>"
      ]
     },
     "metadata": {},
     "output_type": "display_data"
    },
    {
     "name": "stdout",
     "output_type": "stream",
     "text": [
      "Trajet optimal\n"
     ]
    },
    {
     "data": {
      "image/png": "[encoded data removed]",
      "text/plain": [
       "<Figure size 432x288 with 1 Axes>"
      ]
     },
     "metadata": {},
     "output_type": "display_data"
    }
   ],
   "source": [
    "plot_solution_cartesian(tsp1,my_data)"
   ]
  },
  {
   "cell_type": "markdown",
   "metadata": {},
   "source": [
    "On retrouve la même solution par les deux approches. Cependant quand on augmente le nombre de villes (plus de 20), l'approche bayésienne est très lente à converger."
   ]
  },
  {
   "cell_type": "markdown",
   "metadata": {},
   "source": [
    "## Tour du monde des capitales"
   ]
  },
  {
   "cell_type": "markdown",
   "metadata": {},
   "source": [
    "worldtour.csv contient des données sur 217 capitales triées par ordre croissant de leur population\n",
    "Leur latitude et longitude permet de reconstruire la matrice des distances."
   ]
  },
  {
   "cell_type": "code",
   "execution_count": 41,
   "metadata": {},
   "outputs": [
    {
     "data": {
      "text/html": [
       "<div>\n",
       "<style scoped>\n",
       "    .dataframe tbody tr th:only-of-type {\n",
       "        vertical-align: middle;\n",
       "    }\n",
       "\n",
       "    .dataframe tbody tr th {\n",
       "        vertical-align: top;\n",
       "    }\n",
       "\n",
       "    .dataframe thead th {\n",
       "        text-align: right;\n",
       "    }\n",
       "</style>\n",
       "<table border=\"1\" class=\"dataframe\">\n",
       "  <thead>\n",
       "    <tr style=\"text-align: right;\">\n",
       "      <th></th>\n",
       "      <th>city</th>\n",
       "      <th>city_ascii</th>\n",
       "      <th>lat</th>\n",
       "      <th>lng</th>\n",
       "      <th>country</th>\n",
       "      <th>iso2</th>\n",
       "      <th>iso3</th>\n",
       "      <th>admin_name</th>\n",
       "      <th>capital</th>\n",
       "      <th>population</th>\n",
       "      <th>id</th>\n",
       "    </tr>\n",
       "  </thead>\n",
       "  <tbody>\n",
       "    <tr>\n",
       "      <th>0</th>\n",
       "      <td>Hagåtña</td>\n",
       "      <td>Hagta</td>\n",
       "      <td>13.4745</td>\n",
       "      <td>144.7504</td>\n",
       "      <td>Guam</td>\n",
       "      <td>GU</td>\n",
       "      <td>GUM</td>\n",
       "      <td>NaN</td>\n",
       "      <td>primary</td>\n",
       "      <td>1051.0</td>\n",
       "      <td>1316937540</td>\n",
       "    </tr>\n",
       "    <tr>\n",
       "      <th>1</th>\n",
       "      <td>Stanley</td>\n",
       "      <td>Stanley</td>\n",
       "      <td>-51.7000</td>\n",
       "      <td>-57.8500</td>\n",
       "      <td>Falkland Islands (Islas Malvinas)</td>\n",
       "      <td>FK</td>\n",
       "      <td>FLK</td>\n",
       "      <td>NaN</td>\n",
       "      <td>primary</td>\n",
       "      <td>2213.0</td>\n",
       "      <td>1238780509</td>\n",
       "    </tr>\n",
       "    <tr>\n",
       "      <th>2</th>\n",
       "      <td>Capitol Hill</td>\n",
       "      <td>Capitol Hill</td>\n",
       "      <td>15.2137</td>\n",
       "      <td>145.7546</td>\n",
       "      <td>Northern Mariana Islands</td>\n",
       "      <td>MP</td>\n",
       "      <td>MNP</td>\n",
       "      <td>NaN</td>\n",
       "      <td>primary</td>\n",
       "      <td>2500.0</td>\n",
       "      <td>1580556972</td>\n",
       "    </tr>\n",
       "    <tr>\n",
       "      <th>3</th>\n",
       "      <td>George Town</td>\n",
       "      <td>George Town</td>\n",
       "      <td>19.2804</td>\n",
       "      <td>-81.3300</td>\n",
       "      <td>Cayman Islands</td>\n",
       "      <td>KY</td>\n",
       "      <td>CYM</td>\n",
       "      <td>NaN</td>\n",
       "      <td>primary</td>\n",
       "      <td>4268.0</td>\n",
       "      <td>1136159124</td>\n",
       "    </tr>\n",
       "    <tr>\n",
       "      <th>4</th>\n",
       "      <td>Palikir</td>\n",
       "      <td>Palikir</td>\n",
       "      <td>6.9166</td>\n",
       "      <td>158.1500</td>\n",
       "      <td>Micronesia, Federated States Of</td>\n",
       "      <td>FM</td>\n",
       "      <td>FSM</td>\n",
       "      <td>Pohnpei</td>\n",
       "      <td>primary</td>\n",
       "      <td>4645.0</td>\n",
       "      <td>1583008885</td>\n",
       "    </tr>\n",
       "  </tbody>\n",
       "</table>\n",
       "</div>"
      ],
      "text/plain": [
       "           city    city_ascii      lat       lng  \\\n",
       "0       Hagåtña         Hagta  13.4745  144.7504   \n",
       "1       Stanley       Stanley -51.7000  -57.8500   \n",
       "2  Capitol Hill  Capitol Hill  15.2137  145.7546   \n",
       "3   George Town   George Town  19.2804  -81.3300   \n",
       "4       Palikir       Palikir   6.9166  158.1500   \n",
       "\n",
       "                             country iso2 iso3 admin_name  capital  \\\n",
       "0                               Guam   GU  GUM        NaN  primary   \n",
       "1  Falkland Islands (Islas Malvinas)   FK  FLK        NaN  primary   \n",
       "2           Northern Mariana Islands   MP  MNP        NaN  primary   \n",
       "3                     Cayman Islands   KY  CYM        NaN  primary   \n",
       "4    Micronesia, Federated States Of   FM  FSM    Pohnpei  primary   \n",
       "\n",
       "   population          id  \n",
       "0      1051.0  1316937540  \n",
       "1      2213.0  1238780509  \n",
       "2      2500.0  1580556972  \n",
       "3      4268.0  1136159124  \n",
       "4      4645.0  1583008885  "
      ]
     },
     "execution_count": 41,
     "metadata": {},
     "output_type": "execute_result"
    }
   ],
   "source": [
    "df_a = pd.read_csv(\"worldtour.csv\")\n",
    "df_a.head()"
   ]
  },
  {
   "cell_type": "code",
   "execution_count": 42,
   "metadata": {},
   "outputs": [
    {
     "data": {
      "text/plain": [
       "(25, 11)"
      ]
     },
     "execution_count": 42,
     "metadata": {},
     "output_type": "execute_result"
    }
   ],
   "source": [
    "p = 25 #on fixe ici le nombre des villes retenues\n",
    "df = df_a.copy()\n",
    "df = df[-p:]\n",
    "df.shape"
   ]
  },
  {
   "cell_type": "code",
   "execution_count": 43,
   "metadata": {},
   "outputs": [
    {
     "data": {
      "text/plain": [
       "(25, 25)"
      ]
     },
     "execution_count": 43,
     "metadata": {},
     "output_type": "execute_result"
    }
   ],
   "source": [
    "#On construit la matrice des distances à partir des coordonnée géographiques\n",
    "my_data = df[[\"lat\",\"lng\"]].values\n",
    "c = get_distance_from_geographic(my_data)\n",
    "c.shape"
   ]
  },
  {
   "cell_type": "markdown",
   "metadata": {},
   "source": [
    "### Smooth Update 25 villes"
   ]
  },
  {
   "cell_type": "code",
   "execution_count": 46,
   "metadata": {},
   "outputs": [
    {
     "name": "stdout",
     "output_type": "stream",
     "text": [
      "Vous utilisez la méthode : CE\n",
      "Epoch 1\n",
      "Quantile : 174934.33211, Meilleur score : 151556.613003\n",
      "Epoch 2\n",
      "Quantile : 132269.699123, Meilleur score : 109826.710067\n",
      "Epoch 3\n",
      "Quantile : 105636.061888, Meilleur score : 89448.7156633\n",
      "Epoch 4\n",
      "Quantile : 89979.1354876, Meilleur score : 80537.4643582\n",
      "Epoch 5\n",
      "Quantile : 79793.7678538, Meilleur score : 71411.5225864\n"
     ]
    },
    {
     "data": {
      "image/png": "[encoded data removed]",
      "text/plain": [
       "<Figure size 576x576 with 2 Axes>"
      ]
     },
     "metadata": {},
     "output_type": "display_data"
    },
    {
     "name": "stdout",
     "output_type": "stream",
     "text": [
      "Epoch 6\n",
      "Quantile : 73652.8895393, Meilleur score : 66309.7456098\n",
      "Epoch 7\n",
      "Quantile : 67954.7617617, Meilleur score : 59976.4652319\n",
      "Epoch 8\n",
      "Quantile : 59976.4652319, Meilleur score : 59974.6342332\n",
      "Epoch 9\n",
      "Quantile : 59976.4652319, Meilleur score : 59974.6342332\n",
      "Epoch 10\n",
      "Quantile : 59976.4652319, Meilleur score : 59974.6342332\n"
     ]
    },
    {
     "data": {
      "image/png": "[encoded data removed]",
      "text/plain": [
       "<Figure size 576x576 with 2 Axes>"
      ]
     },
     "metadata": {},
     "output_type": "display_data"
    },
    {
     "data": {
      "image/png": "[encoded data removed]",
      "text/plain": [
       "<Figure size 432x288 with 1 Axes>"
      ]
     },
     "metadata": {},
     "output_type": "display_data"
    },
    {
     "name": "stdout",
     "output_type": "stream",
     "text": [
      "Epoch 11\n",
      "Quantile : 59976.4652319, Meilleur score : 59976.4652319\n",
      "Epoch 12\n",
      "Quantile : 59976.4652319, Meilleur score : 59976.4652319\n"
     ]
    },
    {
     "data": {
      "image/png": "[encoded data removed]",
      "text/plain": [
       "<Figure size 576x576 with 2 Axes>"
      ]
     },
     "metadata": {},
     "output_type": "display_data"
    },
    {
     "data": {
      "image/png": "[encoded data removed]",
      "text/plain": [
       "<Figure size 432x288 with 1 Axes>"
      ]
     },
     "metadata": {},
     "output_type": "display_data"
    },
    {
     "name": "stdout",
     "output_type": "stream",
     "text": [
      "final epoch 12, dernier quantile : 59976.4652319\n",
      "Meilleur score 59974.6342332, solution : [ 0 20  1 11 22 14  3  7 18  8 24 15 19 17 13 16  5  4 23  9 12  6 21  2\n",
      " 10  0]\n",
      "CPU times: user 1min 50s, sys: 919 ms, total: 1min 51s\n",
      "Wall time: 1min 52s\n"
     ]
    }
   ],
   "source": [
    "%%time\n",
    "tsp_Smooth = CE_solution(c,method=\"CE\")"
   ]
  },
  {
   "cell_type": "code",
   "execution_count": 47,
   "metadata": {},
   "outputs": [
    {
     "name": "stdout",
     "output_type": "stream",
     "text": [
      "[ 0 20  1 11 22 14  3  7 18  8 24 15 19 17 13 16  5  4 23  9 12  6 21  2\n",
      " 10  0]\n"
     ]
    }
   ],
   "source": [
    "print(tsp_Smooth.solution)"
   ]
  },
  {
   "cell_type": "markdown",
   "metadata": {},
   "source": [
    "### Bayésien 25 villes"
   ]
  },
  {
   "cell_type": "markdown",
   "metadata": {},
   "source": [
    "Avec 25 villes l'algorithme met plusieurs heures à converger, avec plus de 500 updates. Avec plus de 25 villes il est préférable d'utilser le Smooth Update."
   ]
  },
  {
   "cell_type": "code",
   "execution_count": null,
   "metadata": {},
   "outputs": [],
   "source": [
    "%%time\n",
    "tsp_Bayes = CE_solution(c,method=\"Bayes\")"
   ]
  },
  {
   "cell_type": "markdown",
   "metadata": {},
   "source": [
    "### Affichage solution avec Folium"
   ]
  },
  {
   "cell_type": "markdown",
   "metadata": {},
   "source": [
    "Folium est un package permettant de gérer des cartes interactive. On représente le tour optimal sur une carte du monde"
   ]
  },
  {
   "cell_type": "code",
   "execution_count": 50,
   "metadata": {},
   "outputs": [],
   "source": [
    "import folium"
   ]
  },
  {
   "cell_type": "code",
   "execution_count": 51,
   "metadata": {},
   "outputs": [],
   "source": [
    "def plot_my_world_tour(permut,df,line=True):\n",
    "    '''\n",
    "    permut : contient une tour optimal\n",
    "    df: contient le worldwide.csv avec les villes sélectionnées\n",
    "    line=True: if True trace les transitions entre les villes\n",
    "    '''\n",
    "    \n",
    "    locations = df.iloc[permut,:][['lat', 'lng']]\n",
    "    names = df.iloc[permut,:]['city_ascii']\n",
    "    locationlist = locations.values.tolist()\n",
    "\n",
    "    #centre la map sur Paris\n",
    "    map_osm = folium.Map(location=[48.82, 2.26],zoom_start=1.5)\n",
    "\n",
    "    #affiche les villesp points pas points\n",
    "    for point in range(0, len(locationlist)):\n",
    "        folium.Marker(locationlist[point], popup=names.iloc[point]).add_to(map_osm)\n",
    "        \n",
    "    #relie les villes entre elles selon le tour optimal\n",
    "    if line:\n",
    "        folium.PolyLine(locationlist).add_to(map_osm)\n",
    "\n",
    "    #map_osm.save(\"map3.html\")\n",
    "\n",
    "    return map_osm"
   ]
  },
  {
   "cell_type": "code",
   "execution_count": 52,
   "metadata": {},
   "outputs": [
    {
     "data": {
      "text/html": [
       "<div style=\"width:100%;\"><div style=\"position:relative;width:100%;height:0;padding-bottom:60%;\"><iframe src=\"data:text/html;charset=utf-8;base64,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\" style=\"position:absolute;width:100%;height:100%;left:0;top:0;border:none !important;\" allowfullscreen webkitallowfullscreen mozallowfullscreen></iframe></div></div>"
      ],
      "text/plain": [
       "<folium.folium.Map at 0x116da6b90>"
      ]
     },
     "execution_count": 52,
     "metadata": {},
     "output_type": "execute_result"
    }
   ],
   "source": [
    "# Ville sans trajet\n",
    "plot_my_world_tour(tsp_Smooth.solution,df,line=False)"
   ]
  },
  {
   "cell_type": "code",
   "execution_count": 57,
   "metadata": {},
   "outputs": [
    {
     "data": {
      "text/html": [
       "<div style=\"width:100%;\"><div style=\"position:relative;width:100%;height:0;padding-bottom:60%;\"><iframe src=\"data:text/html;charset=utf-8;base64,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\" style=\"position:absolute;width:100%;height:100%;left:0;top:0;border:none !important;\" allowfullscreen webkitallowfullscreen mozallowfullscreen></iframe></div></div>"
      ],
      "text/plain": [
       "<folium.folium.Map at 0x116ccae90>"
      ]
     },
     "execution_count": 57,
     "metadata": {},
     "output_type": "execute_result"
    }
   ],
   "source": [
    "# Tour optimal\n",
    "plot_my_world_tour(tsp_Smooth.solution,df)"
   ]
  },
  {
   "cell_type": "markdown",
   "metadata": {},
   "source": [
    "### Solution tour du monde 50 villes"
   ]
  },
  {
   "cell_type": "markdown",
   "metadata": {},
   "source": [
    "Avec 50 villes la solution est obtenue en 38 minutes avec le Smooth update et la solution est donnée ci-dessous."
   ]
  },
  {
   "cell_type": "code",
   "execution_count": 58,
   "metadata": {},
   "outputs": [
    {
     "data": {
      "text/plain": [
       "(50, 11)"
      ]
     },
     "execution_count": 58,
     "metadata": {},
     "output_type": "execute_result"
    }
   ],
   "source": [
    "p = 50 #on fixe ici le nombre des villes retenues\n",
    "df2 = df_a.copy()\n",
    "df2 = df2[-p:]\n",
    "df2.shape"
   ]
  },
  {
   "cell_type": "code",
   "execution_count": 59,
   "metadata": {},
   "outputs": [
    {
     "data": {
      "text/plain": [
       "(50, 50)"
      ]
     },
     "execution_count": 59,
     "metadata": {},
     "output_type": "execute_result"
    }
   ],
   "source": [
    "#On construit la matrice des distances à partir des coordonnée géographiques\n",
    "my_data2 = df2[[\"lat\",\"lng\"]].values\n",
    "c2 = get_distance_from_geographic(my_data2)\n",
    "c2.shape"
   ]
  },
  {
   "cell_type": "code",
   "execution_count": null,
   "metadata": {},
   "outputs": [],
   "source": [
    "%%time\n",
    "tsp_Smooth_50 = CE_solution(c2,method=\"CE\")"
   ]
  },
  {
   "cell_type": "code",
   "execution_count": 60,
   "metadata": {},
   "outputs": [],
   "source": [
    "#Solution\n",
    "l = [0, 10, 34, 37, 31, 46, 21, 6, 8, 30, 18, 4, 2, 14, 20, 5, 45, 25, 35, 27,\n",
    "    13, 9, 11, 12, 24, 26, 36, 15, 47, 22, 32, 23, 44, 16, 40, 49, 33, 43, 39,\n",
    "    28, 1, 42, 7, 19, 3, 17, 41, 38, 29, 48, 0]"
   ]
  },
  {
   "cell_type": "code",
   "execution_count": 62,
   "metadata": {},
   "outputs": [
    {
     "data": {
      "text/html": [
       "<div style=\"width:100%;\"><div style=\"position:relative;width:100%;height:0;padding-bottom:60%;\"><iframe src=\"data:text/html;charset=utf-8;base64,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\" style=\"position:absolute;width:100%;height:100%;left:0;top:0;border:none !important;\" allowfullscreen webkitallowfullscreen mozallowfullscreen></iframe></div></div>"
      ],
      "text/plain": [
       "<folium.folium.Map at 0x11c0014d0>"
      ]
     },
     "execution_count": 62,
     "metadata": {},
     "output_type": "execute_result"
    }
   ],
   "source": [
    "plot_my_world_tour(l,df2)"
   ]
  }
 ],
 "metadata": {
  "kernelspec": {
   "display_name": "Python 3",
   "language": "python",
   "name": "python3"
  },
  "language_info": {
   "codemirror_mode": {
    "name": "ipython",
    "version": 2
   },
   "file_extension": ".py",
   "mimetype": "text/x-python",
   "name": "python",
   "nbconvert_exporter": "python",
   "pygments_lexer": "ipython2",
   "version": "2.7.15"
  },
  "latex_envs": {
   "LaTeX_envs_menu_present": true,
   "autoclose": false,
   "autocomplete": true,
   "bibliofile": "biblio.bib",
   "cite_by": "apalike",
   "current_citInitial": 1,
   "eqLabelWithNumbers": true,
   "eqNumInitial": 1,
   "hotkeys": {
    "equation": "Ctrl-E",
    "itemize": "Ctrl-I"
   },
   "labels_anchors": false,
   "latex_user_defs": false,
   "report_style_numbering": false,
   "user_envs_cfg": false
  },
  "toc": {
   "base_numbering": 1,
   "nav_menu": {},
   "number_sections": true,
   "sideBar": true,
   "skip_h1_title": false,
   "title_cell": "Table of Contents",
   "title_sidebar": "Contents",
   "toc_cell": false,
   "toc_position": {},
   "toc_section_display": true,
   "toc_window_display": true
  },
  "varInspector": {
   "cols": {
    "lenName": 16,
    "lenType": 16,
    "lenVar": 40
   },
   "kernels_config": {
    "python": {
     "delete_cmd_postfix": "",
     "delete_cmd_prefix": "del ",
     "library": "var_list.py",
     "varRefreshCmd": "print(var_dic_list())"
    },
    "r": {
     "delete_cmd_postfix": ") ",
     "delete_cmd_prefix": "rm(",
     "library": "var_list.r",
     "varRefreshCmd": "cat(var_dic_list()) "
    }
   },
   "types_to_exclude": [
    "module",
    "function",
    "builtin_function_or_method",
    "instance",
    "_Feature"
   ],
   "window_display": false
  }
 },
 "nbformat": 4,
 "nbformat_minor": 2
}
