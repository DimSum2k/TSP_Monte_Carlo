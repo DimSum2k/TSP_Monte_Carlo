{
 "cells": [
  {
   "cell_type": "markdown",
   "metadata": {},
   "source": [
    "# Simulation d'observations de loi multinomiale "
   ]
  },
  {
   "cell_type": "markdown",
   "metadata": {},
   "source": [
    "Nous souhaitons simuler des observations d'une loi multinomiale: \n",
    "\n",
    "Considérons l'expérience où on extrait $n$ boules de $k$ différentes couleurs d'une urne avec remise. Les boules de la même couleur sont équivalents. Soit $X_i$ la variable qui compte le nombre de balles de couleur $i$ extraites ($i = 1, \\cdots, k$), et soit $p_i$ la probabilité d'extraire une boule de couleur $i$. La probabilité de cette loi multinomiale est alors donnée part :\n",
    "\n",
    "<math> \\begin{align}\n",
    "f(x_1,\\ldots,x_k;n,p_1,\\ldots,p_k) & {} = \\mathbb{P}(X_1 = x_1, \\dots, X_k = x_k) \\\\\n",
    "& {} = \\begin{cases} { \\displaystyle {n! \\over x_1!\\cdots x_k!}p_1^{x_1}\\times\\cdots\\times p_k^{x_k}}, \\quad &\n",
    "\\text{quand } \\sum_{i=1}^k x_i=n \\\\  \\\\\n",
    "0 & \\text{sinon} \\end{cases}\n",
    "\\end{align}\n",
    "</math>\n"
   ]
  },
  {
   "cell_type": "markdown",
   "metadata": {},
   "source": [
    "## Simulation avec numpy"
   ]
  },
  {
   "cell_type": "code",
   "execution_count": null,
   "metadata": {},
   "outputs": [],
   "source": [
    "import numpy as np "
   ]
  },
  {
   "cell_type": "code",
   "execution_count": null,
   "metadata": {
    "scrolled": true
   },
   "outputs": [],
   "source": [
    "%%time\n",
    "#Genere 100 observations multinomiale de paramètre n=1 milliard et p = [1./3,1./4,1./6,3./12]\n",
    "mult = np.random.multinomial(1e9, [1./3,1./4,1./6,3./12], size=100)\n",
    "print(mult.shape)\n",
    "mult"
   ]
  },
  {
   "cell_type": "code",
   "execution_count": null,
   "metadata": {},
   "outputs": [],
   "source": [
    "#On retrouve empiriquement les probs théoriques\n",
    "(mult/1e9)[:4,:]"
   ]
  },
  {
   "cell_type": "markdown",
   "metadata": {},
   "source": [
    "## Algorithme de simulation : méthode de la fonction inverse"
   ]
  },
  {
   "cell_type": "markdown",
   "metadata": {},
   "source": [
    "On peut voir une loi multinomiale comme la répétion de n expériences indépendantes à k issues possibles dont on a ensuite rassemblé les issues (compté le nombre de boules pour chaque couleur). On peut donc simuler chacune des expériences indépendamment. \n",
    "\n",
    "Pour générer une variable aléatoire discrète prenant pour valeur $1, \\cdots, k$ avec proba $p_1, \\cdots, p_k$ il suffit d'appliquer la méthode de la fonction inverse (avec inverse généralisée comme on est dans le cas discret). Plus clairement, on génére $U$ une variable aléatoire uniforme sur $[0,1]$ et on regarde dans quel \"bins\" on tombe, i.e, on calcule :  \n",
    "\n",
    "$$j = \\min \\left\\{ j' \\in \\{1,\\dots,k\\} : \\left(\\sum_{i=1}^{j'} p_i\\right) - U \\geq 0 \\right\\}$$\n",
    "\n",
    "En répétant cette algorithme n fois et en rassamblant les issus on obtient une observation multinomiale. Nous présentons dans la cellule suivante l'algorithme \"multinomial1\" quie met en place cette statégie sans finesse. L'algorithme \"multinomial2\" est une version vectorisée, plus difficile à déchiffrer mais beaucoup plus rapide. Dans tous les cas on ne pourra pas battre les algos de numpy qui sont implémenté directement en C++."
   ]
  },
  {
   "cell_type": "code",
   "execution_count": null,
   "metadata": {},
   "outputs": [],
   "source": [
    "def multinomial1(n,prob,size=1,seed=42):\n",
    "    \"\"\"size = nombre d'observations multinomiale\n",
    "    seed permet de fixer l'aléatoire\n",
    "    \n",
    "    Attention, meme si le vecteur en entré n'est pas trié, \n",
    "    la sortie est toujours trié par ordre décroissant\"\"\"\n",
    "    \n",
    "    np.random.seed(42)\n",
    "     \n",
    "    if abs(np.sum(prob)-1)>10e-16:\n",
    "        return \"Probabilités ne somment pas à 1\"\n",
    "    \n",
    "    prob = np.sort(prob)[::-1] #tri par ordre décroissant, plus rapide\n",
    "    \n",
    "    u = np.random.uniform(size=n*size).reshape(size,n)\n",
    "    output = np.zeros((size,len(prob)))\n",
    "    for step in range(size):\n",
    "        for el in u[step,:]:\n",
    "            #pour chaque u on rejoute +1 pour la bins dans laquelle il tome\n",
    "            output[step,get_bin(el,prob)] += 1\n",
    "        \n",
    "    return output\n",
    "    \n",
    "    \n",
    "def get_bin(u,prob):\n",
    "    '''Permet d'obtenir la bins dans laquelle tome un element selon un vecteur de proba'''\n",
    "    cumprob = np.cumsum(prob)\n",
    "    for i,p in enumerate(cumprob):\n",
    "        if u<p:\n",
    "            return i"
   ]
  },
  {
   "cell_type": "code",
   "execution_count": null,
   "metadata": {},
   "outputs": [],
   "source": [
    "%%time\n",
    "n = int(1e5)\n",
    "test = multinomial1(n,np.array([1./3,1./4,1./6,3./12]),size=20)\n",
    "print(test/float(n))"
   ]
  },
  {
   "cell_type": "code",
   "execution_count": null,
   "metadata": {},
   "outputs": [],
   "source": [
    "def multinomial2(n,prob,size=1,seed=42):\n",
    "    \"\"\"Genere une loi multinomiale, approche plus vectorielle que la premiere\n",
    "    size = nombre d'observations multinomiale\n",
    "    seed permet de fixer l'aléatoire\n",
    "    \n",
    "    Attention, meme si le vecteur en entré n'est pas trié, \n",
    "    la sortie est toujours trié par ordre décroissant\"\"\"\n",
    "    \n",
    "    np.random.seed(seed)\n",
    "     \n",
    "    if abs(np.sum(prob)-1)>10e-16:\n",
    "        return \"Probabilités ne somment pas à 1\"\n",
    "    \n",
    "    prob = np.sort(prob)[::-1] \n",
    "    \n",
    "    u = np.random.uniform(size=n*size).reshape(size,n)\n",
    "    output = np.zeros((size,len(prob)))\n",
    "    \n",
    "    cprob = np.cumsum(prob)\n",
    "    \n",
    "    for i,p in enumerate(cprob):\n",
    "        if i==0:\n",
    "            output[:,i] = (u<cprob[i]).sum(axis=1)\n",
    "        else : \n",
    "            output[:,i] = ((u<cprob[i]) & (u>=cprob[i-1])).sum(axis=1)\n",
    "   # output = np.concatenate((output[:,0].reshape(-1,1),np.diff(output,axis=1)),axis=1)\n",
    "        \n",
    "    return output"
   ]
  },
  {
   "cell_type": "code",
   "execution_count": null,
   "metadata": {},
   "outputs": [],
   "source": [
    "%%time\n",
    "n = int(1e5)\n",
    "test = multinomial2(n,np.array([1./3,1./4,1./6,3./12]),size=20)\n",
    "print((test/float(n))[:4,:])"
   ]
  },
  {
   "cell_type": "markdown",
   "metadata": {},
   "source": [
    "Beaucoup plus rapide !"
   ]
  },
  {
   "cell_type": "markdown",
   "metadata": {},
   "source": [
    "# Toy example for CE Method"
   ]
  },
  {
   "cell_type": "markdown",
   "metadata": {},
   "source": [
    "Cet example correspond à l'example 2.2 de \"A Tutorial on the Cross-Entropy Method\". On reproduit les mêmes résultats avec $n = 10$, $y = (1,1,1,1,1,0,0,0,0,0)$, $N=50$, $\\rho=0.1$ et initialisation avec des Bernouilli uniformes."
   ]
  },
  {
   "cell_type": "code",
   "execution_count": null,
   "metadata": {},
   "outputs": [],
   "source": [
    "class ToyCrossEntropy(object):\n",
    "    \"\"\"Méthode de la cross entropie pour l'exemple jouet introduit dans  \n",
    "        De Boer, Kroese, Mannor and Rubinstein (2003). \n",
    "        A Tutorial on the Cross-Entropy Method. Annals of Operations \n",
    "    \n",
    "    Attributs:\n",
    "        y: vecteur binaire dont on veut approcher les éléments.\n",
    "        N: entier, nombre de simulations pour chaque étape\n",
    "        perc: entier, correspond au percentile fixé dans l'algo   \n",
    "        seed: entier, pour fixer l'aléatoire.\n",
    "    \"\"\"\n",
    "    \n",
    "    def __init__(self,y,N,perc=90, seed=42):\n",
    "        \"\"\"Initialise la classe ToyCrossEntropy.\"\"\"\n",
    "        self.y = y\n",
    "        self.n = len(y)\n",
    "        self.N = N\n",
    "        self.perc = perc\n",
    "        self.seed = seed\n",
    "        \n",
    "    def Bernouilli(self,p):\n",
    "        '''Permet de simuler une matrice de taille n*len(p) où p=(p_1,...,p_n)\n",
    "        Chaque colonne est composé de n Bernouilli(p_j) indépendantes'''\n",
    "        \n",
    "        return np.array([np.random.binomial(1,prob,size=self.N) for prob in p]).T\n",
    "\n",
    "    def S(self,x):\n",
    "        '''retourne le nombre de \"match\" entre deux vecteurs binaires'''\n",
    "        \n",
    "        return len(x) - np.sum(np.abs(x-self.y))\n",
    "\n",
    "    def update(self,x,score,q):\n",
    "        '''fonction permettant d'update les probabilités des bernouilli\n",
    "        Lire l'article pour plus de détails'''\n",
    "        \n",
    "        return np.sum((score>=q)*(x))/float(np.sum((score>=q)))\n",
    "\n",
    "    def CE_fit(self):\n",
    "        #fixe aléa\n",
    "        np.random.seed(42)\n",
    "        \n",
    "        \n",
    "        #initialise with Bernouilli(0.5)\n",
    "        p_init = np.tile(0.5,self.n)\n",
    "        \n",
    "        while(self.S(p_init)!=self.n):\n",
    "\n",
    "\n",
    "            #generate N vectors of bernouilli variables with probabilities p_init\n",
    "            x = self.Bernouilli(p_init)\n",
    "            #compute score for each vectors\n",
    "            score = np.apply_along_axis(lambda x: self.S(x),1,x)\n",
    "            #calcul du quantile\n",
    "            q = np.percentile(score,self.perc)\n",
    "            print([int(q),np.round(p_init,2)])\n",
    "\n",
    "            #update of probabilities\n",
    "            p_init = np.apply_along_axis(lambda x, score=score, q=q: self.update(x,score,q),0,x)\n",
    "\n",
    "        print([q,np.round(p_init,2)])\n",
    "        \n",
    "        return \"Convergence\""
   ]
  },
  {
   "cell_type": "code",
   "execution_count": null,
   "metadata": {},
   "outputs": [],
   "source": [
    "y=[1,1,1,1,1,0,0,0,0,0]\n",
    "N=50\n",
    "toy = ToyCrossEntropy(y,N)\n",
    "toy.CE_fit()"
   ]
  },
  {
   "cell_type": "markdown",
   "metadata": {},
   "source": [
    "# TSE problem using cross entropy method "
   ]
  },
  {
   "cell_type": "markdown",
   "metadata": {},
   "source": [
    "(Extracted from \"A Tutorial on the Cross-Entropy Method\")\n",
    "The travelling salesman problem (TSP) can be formulated as follows. Consider a weighted graph $G$ with $n$ nodes, labelled $1, 2, \\cdots, n$. The nodes represent cities, and the edges represent the roads between the cities. Each edge from $i$ to $j$ has weight or cost $c_{i,j}$, representing the length of the road. The problem is to find the shortest tour that visits all the cities exactly once (except the starting city, which is also the terminating city).\n",
    "\n",
    "Without loss of generality, let us assume that the graph is complete (each nodes are connected to each other), and that some of the weights may be $+\\infty$. Let $\\chi$ be the set of all possible tours and let $S(x)$ the total length of tour $x \\in \\chi$. We can represent each tour via a permutation of $(1, \\cdots , n)$. For example for $n = 4$, the permutation $(1, 3, 2, 4)$ represents the tour 1→3→2→4→1. Infact, we may as well represent a tour via a permutation $x = (x_1,\\cdots,x_n)$ with $x_1 = 1$. From now on we identify a tour with its corresponding permutation, where $x_1 = 1$. We may now formulate the TSP as follows.\n",
    "\n",
    "$$\\min_{x\\in \\chi} S(x)  = \\min_{x\\in \\chi} \\sum_{i=1}^{n-1} c_{x_i,x_{i+1}} + c_{x_n,x_1}  $$\n",
    "\n",
    "Note that the number of elements $|\\chi| = (n-1)!$. We are looking for $x^*$ the solution of the problem."
   ]
  },
  {
   "cell_type": "markdown",
   "metadata": {},
   "source": [
    "# Map Monde"
   ]
  },
  {
   "cell_type": "code",
   "execution_count": 3,
   "metadata": {},
   "outputs": [],
   "source": [
    "import pandas as pd"
   ]
  },
  {
   "cell_type": "code",
   "execution_count": 12,
   "metadata": {
    "scrolled": true
   },
   "outputs": [
    {
     "data": {
      "text/plain": [
       "3"
      ]
     },
     "execution_count": 12,
     "metadata": {},
     "output_type": "execute_result"
    }
   ],
   "source": [
    "df = pd.read_csv(\"worldcities.csv\")\n",
    "df.head()\n",
    "locations = df.iloc[[1,50,1000],:][['lat', 'lng']]\n",
    "locationlist = locations.values.tolist()\n",
    "len(locationlist)"
   ]
  },
  {
   "cell_type": "code",
   "execution_count": 18,
   "metadata": {},
   "outputs": [
    {
     "data": {
      "text/html": [
       "<div style=\"width:100%;\"><div style=\"position:relative;width:100%;height:0;padding-bottom:60%;\"><iframe src=\"data:text/html;charset=utf-8;base64,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\" style=\"position:absolute;width:100%;height:100%;left:0;top:0;border:none !important;\" allowfullscreen webkitallowfullscreen mozallowfullscreen></iframe></div></div>"
      ],
      "text/plain": [
       "<folium.folium.Map at 0x1137efe90>"
      ]
     },
     "execution_count": 18,
     "metadata": {},
     "output_type": "execute_result"
    }
   ],
   "source": [
    "import folium\n",
    "\n",
    "map_osm = folium.Map(location=[48.82, 2.26],zoom_start=2)\n",
    "\n",
    "for point in range(0, len(locationlist)):\n",
    "    folium.Marker(locationlist[point]).add_to(map_osm)\n",
    "    \n",
    "folium.PolyLine(locationlist).add_to(map_osm)\n",
    "\n",
    "map_osm"
   ]
  },
  {
   "cell_type": "code",
   "execution_count": null,
   "metadata": {},
   "outputs": [],
   "source": []
  },
  {
   "cell_type": "code",
   "execution_count": null,
   "metadata": {},
   "outputs": [],
   "source": []
  },
  {
   "cell_type": "code",
   "execution_count": null,
   "metadata": {},
   "outputs": [],
   "source": []
  },
  {
   "cell_type": "code",
   "execution_count": null,
   "metadata": {},
   "outputs": [],
   "source": []
  }
 ],
 "metadata": {
  "kernelspec": {
   "display_name": "Python 3",
   "language": "python",
   "name": "python3"
  },
  "language_info": {
   "codemirror_mode": {
    "name": "ipython",
    "version": 2
   },
   "file_extension": ".py",
   "mimetype": "text/x-python",
   "name": "python",
   "nbconvert_exporter": "python",
   "pygments_lexer": "ipython2",
   "version": "2.7.15"
  },
  "latex_envs": {
   "LaTeX_envs_menu_present": true,
   "autoclose": false,
   "autocomplete": true,
   "bibliofile": "biblio.bib",
   "cite_by": "apalike",
   "current_citInitial": 1,
   "eqLabelWithNumbers": true,
   "eqNumInitial": 1,
   "hotkeys": {
    "equation": "Ctrl-E",
    "itemize": "Ctrl-I"
   },
   "labels_anchors": false,
   "latex_user_defs": false,
   "report_style_numbering": false,
   "user_envs_cfg": false
  },
  "toc": {
   "base_numbering": 1,
   "nav_menu": {},
   "number_sections": true,
   "sideBar": true,
   "skip_h1_title": false,
   "title_cell": "Table of Contents",
   "title_sidebar": "Contents",
   "toc_cell": false,
   "toc_position": {},
   "toc_section_display": true,
   "toc_window_display": true
  },
  "varInspector": {
   "cols": {
    "lenName": 16,
    "lenType": 16,
    "lenVar": 40
   },
   "kernels_config": {
    "python": {
     "delete_cmd_postfix": "",
     "delete_cmd_prefix": "del ",
     "library": "var_list.py",
     "varRefreshCmd": "print(var_dic_list())"
    },
    "r": {
     "delete_cmd_postfix": ") ",
     "delete_cmd_prefix": "rm(",
     "library": "var_list.r",
     "varRefreshCmd": "cat(var_dic_list()) "
    }
   },
   "types_to_exclude": [
    "module",
    "function",
    "builtin_function_or_method",
    "instance",
    "_Feature"
   ],
   "window_display": false
  }
 },
 "nbformat": 4,
 "nbformat_minor": 2
}
